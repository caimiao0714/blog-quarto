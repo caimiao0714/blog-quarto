{
  "cells": [
    {
      "cell_type": "raw",
      "metadata": {},
      "source": [
        "---\n",
        "title: '用R和plink做GWAS'\n",
        "author: '蔡苗'\n",
        "date: '2022-10-04'\n",
        "categories:\n",
        "  - R\n",
        "  - GWAS\n",
        "  - plink\n",
        "#draft: false\n",
        "---"
      ],
      "id": "f8199e0a"
    },
    {
      "cell_type": "markdown",
      "metadata": {},
      "source": [
        "- [GWAS pipeline](https://github.com/tbilab/Plink-Based-GWAS)\n",
        "\n",
        "Software: \n",
        "\n",
        "- plink (please download the latest plink1.9 or plink2, otherwise you will waste a lot of time!!!)\n",
        "- shapeit\n",
        "- impute2\n",
        "\n",
        "other pre-requirements:\n",
        "\n",
        "- a cluster\n",
        "- genotyped data(plink format, transform to bed/bim/fam before running the pipeline if your genotyped data - is ped/map)\n",
        "- enough storage since very large files will be created during imputation procedure\n",
        "- R 3.4.3;gawk;python3.6.3\n",
        "\n",
        "[gwas_scripts](https://github.com/JoniColeman/gwas_scripts)\n",
        "\n",
        "- PLINK / PLINK2\n",
        "- R\n",
        "- EIGENSOFT\n",
        "- IMPUTE\n",
        "\n",
        "\n",
        "multiple variants having the same ID:\n",
        "\n",
        "plink2's \n",
        "`--set-all-var-ids flag` and `--rm-dup` and help address this.\n",
        "\n",
        "\n",
        "### Convert UKBB `.bgen` files \n",
        "\n",
        "```{plink2}\n",
        "cd /data2/ShareData/UKBB/Genetics/Imputation\\ BGEN/\n",
        "plink2 \\\n",
        "    --bgen ukb_imp_chrXY_v3.bgen ref-first \\\n",
        "    --sample ../Imputation\\ sample/ukb22828_cXY_b0_v3_s486238.sample \\\n",
        "\t--keep /data1/Users/caim/UKBB/Papers/12_GWAS_air_kidney/Data/eid_include.txt \\\n",
        "\t--extract /data1/Users/caim/UKBB/Papers/Papers/12_GWAS_air_kidney/Data/test_SNP_XY.txt \\\n",
        "    --make-bed \\\n",
        "    --out plink2_ukb_imp_chrXY \\\n",
        "    #--hwe 0.000001 \\ \n",
        "\t--threads 80 \\ \n",
        "\t--memory 482323 \\ \n",
        "\t--native\n",
        "```\n",
        "\n",
        "\n",
        "\n",
        "\n",
        "# GSEA \n",
        "\n",
        "[Gene Set Enrichment Analysis with ClusterProfiler](https://learn.gencore.bio.nyu.edu/rna-seq-analysis/gene-set-enrichment-analysis/)\n"
      ],
      "id": "2f05f1c3"
    }
  ],
  "metadata": {
    "kernelspec": {
      "name": "py38",
      "language": "python",
      "display_name": "py38"
    }
  },
  "nbformat": 4,
  "nbformat_minor": 5
}